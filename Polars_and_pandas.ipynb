{
  "nbformat": 4,
  "nbformat_minor": 0,
  "metadata": {
    "colab": {
      "provenance": []
    },
    "kernelspec": {
      "name": "python3",
      "display_name": "Python 3"
    },
    "language_info": {
      "name": "python"
    }
  },
  "cells": [
    {
      "cell_type": "code",
      "source": [
        "!pip install polars"
      ],
      "metadata": {
        "colab": {
          "base_uri": "https://localhost:8080/"
        },
        "id": "wZau-A1g4jfq",
        "outputId": "8c7eab56-bae3-40f6-bd2b-e98c059d48ed"
      },
      "execution_count": 2,
      "outputs": [
        {
          "output_type": "stream",
          "name": "stdout",
          "text": [
            "Requirement already satisfied: polars in /usr/local/lib/python3.10/dist-packages (0.17.3)\n",
            "Requirement already satisfied: typing_extensions>=4.0.1 in /usr/local/lib/python3.10/dist-packages (from polars) (4.7.1)\n"
          ]
        }
      ]
    },
    {
      "cell_type": "markdown",
      "source": [
        "**Comparison of polars and pandas**\n",
        "\n",
        "Here is a small comparison of polars and pandas libraries.  \n",
        "****\n",
        "**Сравнение polars и pandas**\n",
        "\n",
        "Здесь просто небольшое сравнение библиотек polars и pandas."
      ],
      "metadata": {
        "id": "7b3_xQkBvRyr"
      }
    },
    {
      "cell_type": "code",
      "execution_count": 1,
      "metadata": {
        "id": "kfTZP2Iw4cye"
      },
      "outputs": [],
      "source": [
        "import numpy as np\n",
        "import pandas as pd\n",
        "from datetime import datetime\n",
        "import polars as pl\n",
        "import matplotlib.pyplot as plt\n",
        "import seaborn as sns"
      ]
    },
    {
      "cell_type": "markdown",
      "source": [
        "**Step 0.**\n",
        "\n",
        "For palpability, the dataset is increased to 1 million observations.\n",
        "\n",
        "****\n",
        "\n",
        "**Шаг 0.**\n",
        "\n",
        "Для наглядности набор данных увеличен до 1 миллиона наблюдений."
      ],
      "metadata": {
        "id": "cpCd7Ix1Ntqy"
      }
    },
    {
      "cell_type": "code",
      "source": [
        "df = pd.read_csv('/content/drive/MyDrive/AI_education/data/online_shoppers_intention.csv')"
      ],
      "metadata": {
        "id": "oryKziOp4wrz"
      },
      "execution_count": 3,
      "outputs": []
    },
    {
      "cell_type": "code",
      "source": [
        "df_big = df.copy()\n",
        "\n",
        "for i in range(82):\n",
        "  df_big = pd.concat([df_big, df])\n",
        "\n",
        "df_big.to_csv(\"/content/drive/MyDrive/AI_education/data/online_shoppers_intention_big.csv\", index=False)"
      ],
      "metadata": {
        "id": "wMJgWbY04xbw"
      },
      "execution_count": 11,
      "outputs": []
    },
    {
      "cell_type": "markdown",
      "source": [
        "**1. Loading data**\n",
        "****\n",
        "**1. Загрузка данных**"
      ],
      "metadata": {
        "id": "2u2gHe3lvXq-"
      }
    },
    {
      "cell_type": "code",
      "source": [
        "current_time = datetime.now()\n",
        "df_pl = pl.read_csv(\"/content/drive/MyDrive/AI_education/data/online_shoppers_intention_big.csv\")\n",
        "total_time_load_pl =  datetime.now() - current_time\n",
        "\n",
        "\n",
        "current_time = datetime.now()\n",
        "df_pd = pd.read_csv(\"/content/drive/MyDrive/AI_education/data/online_shoppers_intention_big.csv\")\n",
        "total_time_load_pd =  datetime.now() - current_time\n"
      ],
      "metadata": {
        "id": "FNZ3ZerE4-97"
      },
      "execution_count": 12,
      "outputs": []
    },
    {
      "cell_type": "code",
      "source": [
        "print(total_time_load_pl, total_time_load_pd)"
      ],
      "metadata": {
        "colab": {
          "base_uri": "https://localhost:8080/"
        },
        "id": "A5qsS144utyf",
        "outputId": "50cd5999-d4af-4171-b24e-d5ce60b93cac"
      },
      "execution_count": 13,
      "outputs": [
        {
          "output_type": "stream",
          "name": "stdout",
          "text": [
            "0:00:01.946147 0:00:02.495323\n"
          ]
        }
      ]
    },
    {
      "cell_type": "markdown",
      "source": [
        "**2. Data filtering** \\\n",
        "Returned users who have visited more than 5 information pages are taken here.\n",
        "\n",
        "****\n",
        "\n",
        "**2. Фильтрация данных** \\\n",
        "Взяты вернувшиеся пользователи, посетившие более 5ти информационных страниц."
      ],
      "metadata": {
        "id": "amVLHihZvfcI"
      }
    },
    {
      "cell_type": "code",
      "source": [
        "#polars\n",
        "current_time = datetime.now()\n",
        "pl_res = df_pl.filter((pl.col('VisitorType') == 'Returning_Visitor') & (pl.col('Informational') > 5))\n",
        "total_time_filter_pl =  datetime.now() - current_time\n",
        "\n",
        "#pandas\n",
        "current_time = datetime.now()\n",
        "pd_res = df_pd.query('VisitorType == \"Returning_Visitor\" & Informational > 5')\n",
        "total_time_filter_pd =  datetime.now() - current_time\n",
        "\n",
        "assert len(pl_res) == len(pd_res)"
      ],
      "metadata": {
        "id": "afs04dTOvsJF"
      },
      "execution_count": 14,
      "outputs": []
    },
    {
      "cell_type": "markdown",
      "source": [
        "**3. Data aggregation** \\\n",
        "Aggregated number of users by month.\n",
        "\n",
        "****\n",
        "\n",
        "**3. Агрегация данных** \\\n",
        "Агрегировано количество пользователей по месяцам."
      ],
      "metadata": {
        "id": "-3kCl9c4vmni"
      }
    },
    {
      "cell_type": "code",
      "source": [
        "#polars\n",
        "current_time = datetime.now()\n",
        "df_pl.groupby(by='Month').agg(pl.col('VisitorType').count())\n",
        "total_time_agg_pl =  datetime.now() - current_time\n",
        "\n",
        "#pandas\n",
        "current_time = datetime.now()\n",
        "df_pd.groupby(by='Month').agg({'VisitorType' : 'count'})\n",
        "total_time_agg_pd =  datetime.now() - current_time"
      ],
      "metadata": {
        "id": "CShnWqiW5Lij"
      },
      "execution_count": 15,
      "outputs": []
    },
    {
      "cell_type": "code",
      "source": [
        "pl_results = [total_time_load_pl, total_time_filter_pl, total_time_agg_pl]\n",
        "pd_results = [total_time_load_pd, total_time_filter_pd, total_time_agg_pd]\n",
        "\n",
        "operations_data = pd.DataFrame(data = np.vstack([pl_results, pd_results])).T\n",
        "operations_data.columns = ['Polars', 'Pandas']\n",
        "operations_data['diff_Pd_Pl'] = operations_data['Pandas'] - operations_data['Polars']\n",
        "\n",
        "operations_data.index = ['Load', 'Filter', 'Aggregation']"
      ],
      "metadata": {
        "id": "q23fBt__6yHr"
      },
      "execution_count": 17,
      "outputs": []
    },
    {
      "cell_type": "code",
      "source": [
        "import matplotlib.dates as md\n",
        "import dateutil\n",
        "\n",
        "plt.figure(figsize=(12, 4))\n",
        "ax=plt.gca()\n",
        "xfmt = md.DateFormatter('%Y-%m-%d %H:%M:%S')\n",
        "ax.xaxis.set_major_formatter(xfmt)\n",
        "\n",
        "plt.plot([1, 2, 3], operations_data['Pandas'], marker='o', label='Pandas', color='black')\n",
        "plt.plot([1, 2, 3], operations_data['Polars'], marker='o', label='Polars')\n",
        "\n",
        "plt.legend()\n",
        "plt.xticks(rotation=30, ticks=[], labels=None)\n",
        "\n",
        "plt.title('Operation execution time:\\n Loading, filtering, aggregation from left to right');"
      ],
      "metadata": {
        "colab": {
          "base_uri": "https://localhost:8080/",
          "height": 387
        },
        "id": "hboFQJRoyxXC",
        "outputId": "305865ea-73f1-439c-a04f-f0a1c243f4bf"
      },
      "execution_count": 18,
      "outputs": [
        {
          "output_type": "display_data",
          "data": {
            "text/plain": [
              "<Figure size 1200x400 with 1 Axes>"
            ],
            "image/png": "[encoded data removed]"
          },
          "metadata": {}
        }
      ]
    },
    {
      "cell_type": "markdown",
      "source": [
        "##**Conclusion**\n",
        "\n",
        "On a dataset of size `(1023390, 18)`, polars small (but not on all iterations of the check) outperforms pandas in grazuka and performs comparably in data filtering and aggregation tasks.\n",
        "\n",
        "****\n",
        "\n",
        "**Вывод**\n",
        "\n",
        "На наборе данных размером `(1023390, 18)` polars немного (но не на всех итерациях проверки) превосходит pandas в гразуке и работает сопоставимо в задачах фильтрации и агрегации данных.  "
      ],
      "metadata": {
        "id": "uUFuvcD24Zvy"
      }
    }
  ]
}